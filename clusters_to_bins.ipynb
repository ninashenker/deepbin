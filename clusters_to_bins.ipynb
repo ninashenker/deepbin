{
 "cells": [
  {
   "cell_type": "code",
   "execution_count": 310,
   "id": "b3a297bf",
   "metadata": {},
   "outputs": [],
   "source": [
    "import pandas as pd\n",
    "\n",
    "train_bin_results= '/mnt/data/CAMI/DNABERT/rand_train.csv'\n",
    "val_bin_results = '/mnt/data/CAMI/DNABERT/rand_val.csv'\n",
    "tnf_train_results = '/mnt/data/CAMI/DNABERT/tnf_rand_train.csv'\n",
    "tnf_val_results = '/mnt/data/CAMI/DNABERT/tnf_rand_val.csv'"
   ]
  },
  {
   "cell_type": "code",
   "execution_count": 311,
   "id": "831f6460",
   "metadata": {},
   "outputs": [
    {
     "data": {
      "text/html": [
       "<div>\n",
       "<style scoped>\n",
       "    .dataframe tbody tr th:only-of-type {\n",
       "        vertical-align: middle;\n",
       "    }\n",
       "\n",
       "    .dataframe tbody tr th {\n",
       "        vertical-align: top;\n",
       "    }\n",
       "\n",
       "    .dataframe thead th {\n",
       "        text-align: right;\n",
       "    }\n",
       "</style>\n",
       "<table border=\"1\" class=\"dataframe\">\n",
       "  <thead>\n",
       "    <tr style=\"text-align: right;\">\n",
       "      <th></th>\n",
       "      <th>contig_length</th>\n",
       "      <th>method</th>\n",
       "      <th>randint</th>\n",
       "      <th>randintadj</th>\n",
       "    </tr>\n",
       "  </thead>\n",
       "  <tbody>\n",
       "    <tr>\n",
       "      <th>0</th>\n",
       "      <td>10000</td>\n",
       "      <td>hdbscan_20_fn_layer12_pca400</td>\n",
       "      <td>0.636129</td>\n",
       "      <td>0.170345</td>\n",
       "    </tr>\n",
       "    <tr>\n",
       "      <th>1</th>\n",
       "      <td>5000</td>\n",
       "      <td>hdbscan_20_fn_layer12_pca400</td>\n",
       "      <td>0.612529</td>\n",
       "      <td>0.176103</td>\n",
       "    </tr>\n",
       "    <tr>\n",
       "      <th>2</th>\n",
       "      <td>2000</td>\n",
       "      <td>hdbscan_20_fn_layer12_pca500</td>\n",
       "      <td>0.657800</td>\n",
       "      <td>0.247720</td>\n",
       "    </tr>\n",
       "    <tr>\n",
       "      <th>3</th>\n",
       "      <td>1000</td>\n",
       "      <td>hdbscan_20_fn_layer12_pca500</td>\n",
       "      <td>0.471612</td>\n",
       "      <td>0.002932</td>\n",
       "    </tr>\n",
       "    <tr>\n",
       "      <th>4</th>\n",
       "      <td>500</td>\n",
       "      <td>hdbscan_20_fn_layer12_pca500</td>\n",
       "      <td>0.480059</td>\n",
       "      <td>0.004285</td>\n",
       "    </tr>\n",
       "    <tr>\n",
       "      <th>5</th>\n",
       "      <td>0</td>\n",
       "      <td>hdbscan_20_fn_layer12_pca500</td>\n",
       "      <td>0.370651</td>\n",
       "      <td>0.027232</td>\n",
       "    </tr>\n",
       "  </tbody>\n",
       "</table>\n",
       "</div>"
      ],
      "text/plain": [
       "   contig_length                        method   randint  randintadj\n",
       "0          10000  hdbscan_20_fn_layer12_pca400  0.636129    0.170345\n",
       "1           5000  hdbscan_20_fn_layer12_pca400  0.612529    0.176103\n",
       "2           2000  hdbscan_20_fn_layer12_pca500  0.657800    0.247720\n",
       "3           1000  hdbscan_20_fn_layer12_pca500  0.471612    0.002932\n",
       "4            500  hdbscan_20_fn_layer12_pca500  0.480059    0.004285\n",
       "5              0  hdbscan_20_fn_layer12_pca500  0.370651    0.027232"
      ]
     },
     "execution_count": 311,
     "metadata": {},
     "output_type": "execute_result"
    }
   ],
   "source": [
    "pd.set_option('display.max_rows', None)\n",
    "pd.set_option('display.max_columns', None)\n",
    "\n",
    "col_names = ['contig_length', 'method', 'randint', 'randintadj']\n",
    "train_csv = pd.read_csv(train_bin_results, header = None, names=col_names)\n",
    "train_csv"
   ]
  },
  {
   "cell_type": "code",
   "execution_count": 312,
   "id": "e563278b",
   "metadata": {},
   "outputs": [
    {
     "data": {
      "text/plain": [
       "0    0.636129\n",
       "1    0.612529\n",
       "2    0.657800\n",
       "3    0.471612\n",
       "4    0.480059\n",
       "5    0.370651\n",
       "Name: randint, dtype: float64"
      ]
     },
     "execution_count": 312,
     "metadata": {},
     "output_type": "execute_result"
    }
   ],
   "source": [
    "train_rand_values=train_csv['randint']\n",
    "train_rand_values"
   ]
  },
  {
   "cell_type": "code",
   "execution_count": 313,
   "id": "affeb0ca",
   "metadata": {},
   "outputs": [
    {
     "data": {
      "text/html": [
       "<div>\n",
       "<style scoped>\n",
       "    .dataframe tbody tr th:only-of-type {\n",
       "        vertical-align: middle;\n",
       "    }\n",
       "\n",
       "    .dataframe tbody tr th {\n",
       "        vertical-align: top;\n",
       "    }\n",
       "\n",
       "    .dataframe thead th {\n",
       "        text-align: right;\n",
       "    }\n",
       "</style>\n",
       "<table border=\"1\" class=\"dataframe\">\n",
       "  <thead>\n",
       "    <tr style=\"text-align: right;\">\n",
       "      <th></th>\n",
       "      <th>contig_length</th>\n",
       "      <th>method</th>\n",
       "      <th>randint</th>\n",
       "      <th>randintadj</th>\n",
       "    </tr>\n",
       "  </thead>\n",
       "  <tbody>\n",
       "    <tr>\n",
       "      <th>0</th>\n",
       "      <td>10000</td>\n",
       "      <td>hdbscan_20_fn_layer12_pca400</td>\n",
       "      <td>0.267950</td>\n",
       "      <td>0.008305</td>\n",
       "    </tr>\n",
       "    <tr>\n",
       "      <th>1</th>\n",
       "      <td>5000</td>\n",
       "      <td>hdbscan_20_fn_layer12_pca400</td>\n",
       "      <td>0.412602</td>\n",
       "      <td>-0.000922</td>\n",
       "    </tr>\n",
       "    <tr>\n",
       "      <th>2</th>\n",
       "      <td>2000</td>\n",
       "      <td>hdbscan_20_fn_layer12_pca500</td>\n",
       "      <td>0.547972</td>\n",
       "      <td>0.050564</td>\n",
       "    </tr>\n",
       "    <tr>\n",
       "      <th>3</th>\n",
       "      <td>1000</td>\n",
       "      <td>hdbscan_20_fn_layer12_pca500</td>\n",
       "      <td>0.591882</td>\n",
       "      <td>0.049133</td>\n",
       "    </tr>\n",
       "    <tr>\n",
       "      <th>4</th>\n",
       "      <td>500</td>\n",
       "      <td>hdbscan_20_fn_layer12_pca500</td>\n",
       "      <td>0.253556</td>\n",
       "      <td>0.008748</td>\n",
       "    </tr>\n",
       "    <tr>\n",
       "      <th>5</th>\n",
       "      <td>0</td>\n",
       "      <td>hdbscan_20_fn_layer12_pca500</td>\n",
       "      <td>0.407541</td>\n",
       "      <td>-0.003182</td>\n",
       "    </tr>\n",
       "  </tbody>\n",
       "</table>\n",
       "</div>"
      ],
      "text/plain": [
       "   contig_length                        method   randint  randintadj\n",
       "0          10000  hdbscan_20_fn_layer12_pca400  0.267950    0.008305\n",
       "1           5000  hdbscan_20_fn_layer12_pca400  0.412602   -0.000922\n",
       "2           2000  hdbscan_20_fn_layer12_pca500  0.547972    0.050564\n",
       "3           1000  hdbscan_20_fn_layer12_pca500  0.591882    0.049133\n",
       "4            500  hdbscan_20_fn_layer12_pca500  0.253556    0.008748\n",
       "5              0  hdbscan_20_fn_layer12_pca500  0.407541   -0.003182"
      ]
     },
     "execution_count": 313,
     "metadata": {},
     "output_type": "execute_result"
    }
   ],
   "source": [
    "col_names = ['contig_length', 'method', 'randint', 'randintadj']\n",
    "val_csv = pd.read_csv(val_bin_results, header = None, names=col_names)\n",
    "val_csv"
   ]
  },
  {
   "cell_type": "code",
   "execution_count": 314,
   "id": "5cd7f698",
   "metadata": {},
   "outputs": [
    {
     "data": {
      "text/plain": [
       "0    0.267950\n",
       "1    0.412602\n",
       "2    0.547972\n",
       "3    0.591882\n",
       "4    0.253556\n",
       "5    0.407541\n",
       "Name: randint, dtype: float64"
      ]
     },
     "execution_count": 314,
     "metadata": {},
     "output_type": "execute_result"
    }
   ],
   "source": [
    "val_rand_values=val_csv['randint']\n",
    "val_rand_values"
   ]
  },
  {
   "cell_type": "code",
   "execution_count": 315,
   "id": "169f1c23",
   "metadata": {},
   "outputs": [
    {
     "data": {
      "text/html": [
       "<div>\n",
       "<style scoped>\n",
       "    .dataframe tbody tr th:only-of-type {\n",
       "        vertical-align: middle;\n",
       "    }\n",
       "\n",
       "    .dataframe tbody tr th {\n",
       "        vertical-align: top;\n",
       "    }\n",
       "\n",
       "    .dataframe thead th {\n",
       "        text-align: right;\n",
       "    }\n",
       "</style>\n",
       "<table border=\"1\" class=\"dataframe\">\n",
       "  <thead>\n",
       "    <tr style=\"text-align: right;\">\n",
       "      <th></th>\n",
       "      <th>contig_length</th>\n",
       "      <th>method</th>\n",
       "      <th>randint</th>\n",
       "      <th>randintadj</th>\n",
       "    </tr>\n",
       "  </thead>\n",
       "  <tbody>\n",
       "    <tr>\n",
       "      <th>0</th>\n",
       "      <td>10000</td>\n",
       "      <td>tnf</td>\n",
       "      <td>0.731684</td>\n",
       "      <td>0.0</td>\n",
       "    </tr>\n",
       "    <tr>\n",
       "      <th>1</th>\n",
       "      <td>5000</td>\n",
       "      <td>tnf</td>\n",
       "      <td>0.185209</td>\n",
       "      <td>0.0</td>\n",
       "    </tr>\n",
       "    <tr>\n",
       "      <th>2</th>\n",
       "      <td>2000</td>\n",
       "      <td>tnf</td>\n",
       "      <td>0.607693</td>\n",
       "      <td>0.0</td>\n",
       "    </tr>\n",
       "    <tr>\n",
       "      <th>3</th>\n",
       "      <td>1000</td>\n",
       "      <td>tnf</td>\n",
       "      <td>0.400823</td>\n",
       "      <td>0.0</td>\n",
       "    </tr>\n",
       "    <tr>\n",
       "      <th>4</th>\n",
       "      <td>500</td>\n",
       "      <td>tnf</td>\n",
       "      <td>0.388709</td>\n",
       "      <td>0.0</td>\n",
       "    </tr>\n",
       "    <tr>\n",
       "      <th>5</th>\n",
       "      <td>0</td>\n",
       "      <td>tnf</td>\n",
       "      <td>0.099875</td>\n",
       "      <td>0.0</td>\n",
       "    </tr>\n",
       "  </tbody>\n",
       "</table>\n",
       "</div>"
      ],
      "text/plain": [
       "   contig_length method   randint  randintadj\n",
       "0          10000    tnf  0.731684         0.0\n",
       "1           5000    tnf  0.185209         0.0\n",
       "2           2000    tnf  0.607693         0.0\n",
       "3           1000    tnf  0.400823         0.0\n",
       "4            500    tnf  0.388709         0.0\n",
       "5              0    tnf  0.099875         0.0"
      ]
     },
     "execution_count": 315,
     "metadata": {},
     "output_type": "execute_result"
    }
   ],
   "source": [
    "col_names = ['contig_length', 'method', 'randint', 'randintadj']\n",
    "tnf_train_csv = pd.read_csv(tnf_train_results, header = None, names=col_names)\n",
    "tnf_train_csv"
   ]
  },
  {
   "cell_type": "code",
   "execution_count": 316,
   "id": "1abecd6c",
   "metadata": {},
   "outputs": [
    {
     "data": {
      "text/plain": [
       "0    0.731684\n",
       "1    0.185209\n",
       "2    0.607693\n",
       "3    0.400823\n",
       "4    0.388709\n",
       "5    0.099875\n",
       "Name: randint, dtype: float64"
      ]
     },
     "execution_count": 316,
     "metadata": {},
     "output_type": "execute_result"
    }
   ],
   "source": [
    "tnf_train_values=tnf_train_csv['randint']\n",
    "tnf_train_values\n"
   ]
  },
  {
   "cell_type": "code",
   "execution_count": 317,
   "id": "a76ffcef",
   "metadata": {},
   "outputs": [
    {
     "data": {
      "text/html": [
       "<div>\n",
       "<style scoped>\n",
       "    .dataframe tbody tr th:only-of-type {\n",
       "        vertical-align: middle;\n",
       "    }\n",
       "\n",
       "    .dataframe tbody tr th {\n",
       "        vertical-align: top;\n",
       "    }\n",
       "\n",
       "    .dataframe thead th {\n",
       "        text-align: right;\n",
       "    }\n",
       "</style>\n",
       "<table border=\"1\" class=\"dataframe\">\n",
       "  <thead>\n",
       "    <tr style=\"text-align: right;\">\n",
       "      <th></th>\n",
       "      <th>contig_length</th>\n",
       "      <th>method</th>\n",
       "      <th>randint</th>\n",
       "      <th>randintadj</th>\n",
       "    </tr>\n",
       "  </thead>\n",
       "  <tbody>\n",
       "    <tr>\n",
       "      <th>0</th>\n",
       "      <td>10000</td>\n",
       "      <td>tnf</td>\n",
       "      <td>0.889311</td>\n",
       "      <td>0.0</td>\n",
       "    </tr>\n",
       "    <tr>\n",
       "      <th>1</th>\n",
       "      <td>5000</td>\n",
       "      <td>tnf</td>\n",
       "      <td>0.672692</td>\n",
       "      <td>0.0</td>\n",
       "    </tr>\n",
       "    <tr>\n",
       "      <th>2</th>\n",
       "      <td>2000</td>\n",
       "      <td>tnf</td>\n",
       "      <td>0.620068</td>\n",
       "      <td>0.0</td>\n",
       "    </tr>\n",
       "    <tr>\n",
       "      <th>3</th>\n",
       "      <td>1000</td>\n",
       "      <td>tnf</td>\n",
       "      <td>0.396928</td>\n",
       "      <td>0.0</td>\n",
       "    </tr>\n",
       "    <tr>\n",
       "      <th>4</th>\n",
       "      <td>500</td>\n",
       "      <td>tnf</td>\n",
       "      <td>0.160446</td>\n",
       "      <td>0.0</td>\n",
       "    </tr>\n",
       "    <tr>\n",
       "      <th>5</th>\n",
       "      <td>0</td>\n",
       "      <td>tnf</td>\n",
       "      <td>0.019409</td>\n",
       "      <td>0.0</td>\n",
       "    </tr>\n",
       "  </tbody>\n",
       "</table>\n",
       "</div>"
      ],
      "text/plain": [
       "   contig_length method   randint  randintadj\n",
       "0          10000    tnf  0.889311         0.0\n",
       "1           5000    tnf  0.672692         0.0\n",
       "2           2000    tnf  0.620068         0.0\n",
       "3           1000    tnf  0.396928         0.0\n",
       "4            500    tnf  0.160446         0.0\n",
       "5              0    tnf  0.019409         0.0"
      ]
     },
     "execution_count": 317,
     "metadata": {},
     "output_type": "execute_result"
    }
   ],
   "source": [
    "col_names = ['contig_length', 'method', 'randint', 'randintadj']\n",
    "tnf_val_csv = pd.read_csv(tnf_val_results, header = None, names=col_names)\n",
    "tnf_val_csv"
   ]
  },
  {
   "cell_type": "code",
   "execution_count": 318,
   "id": "519e07de",
   "metadata": {},
   "outputs": [
    {
     "data": {
      "text/plain": [
       "0    0.889311\n",
       "1    0.672692\n",
       "2    0.620068\n",
       "3    0.396928\n",
       "4    0.160446\n",
       "5    0.019409\n",
       "Name: randint, dtype: float64"
      ]
     },
     "execution_count": 318,
     "metadata": {},
     "output_type": "execute_result"
    }
   ],
   "source": [
    "tnf_val_values=tnf_val_csv['randint']\n",
    "tnf_val_values"
   ]
  },
  {
   "cell_type": "code",
   "execution_count": 319,
   "id": "51699207",
   "metadata": {},
   "outputs": [
    {
     "ename": "NameError",
     "evalue": "name 'train' is not defined",
     "output_type": "error",
     "traceback": [
      "\u001b[0;31m---------------------------------------------------------------------------\u001b[0m",
      "\u001b[0;31mNameError\u001b[0m                                 Traceback (most recent call last)",
      "\u001b[0;32m<ipython-input-319-3bdaf994ca58>\u001b[0m in \u001b[0;36m<module>\u001b[0;34m\u001b[0m\n\u001b[1;32m     11\u001b[0m \u001b[0mx\u001b[0m \u001b[0;34m=\u001b[0m \u001b[0;34m[\u001b[0m\u001b[0;36m500\u001b[0m\u001b[0;34m,\u001b[0m \u001b[0;36m1000\u001b[0m\u001b[0;34m,\u001b[0m \u001b[0;36m2000\u001b[0m\u001b[0;34m,\u001b[0m \u001b[0;36m5000\u001b[0m\u001b[0;34m,\u001b[0m \u001b[0;36m10000\u001b[0m\u001b[0;34m]\u001b[0m\u001b[0;34m\u001b[0m\u001b[0;34m\u001b[0m\u001b[0m\n\u001b[1;32m     12\u001b[0m \u001b[0;34m\u001b[0m\u001b[0m\n\u001b[0;32m---> 13\u001b[0;31m \u001b[0mtnf_t_y\u001b[0m \u001b[0;34m=\u001b[0m \u001b[0;34m[\u001b[0m\u001b[0mtrain\u001b[0m\u001b[0;34m]\u001b[0m\u001b[0;34m\u001b[0m\u001b[0;34m\u001b[0m\u001b[0m\n\u001b[0m\u001b[1;32m     14\u001b[0m \u001b[0;34m\u001b[0m\u001b[0m\n\u001b[1;32m     15\u001b[0m \u001b[0mtnf_v_y\u001b[0m \u001b[0;34m=\u001b[0m \u001b[0;34m[\u001b[0m\u001b[0;36m0.2\u001b[0m\u001b[0;34m,\u001b[0m \u001b[0;36m0.1\u001b[0m\u001b[0;34m,\u001b[0m \u001b[0;36m0.5\u001b[0m\u001b[0;34m,\u001b[0m \u001b[0;36m0.9\u001b[0m\u001b[0;34m,\u001b[0m \u001b[0;36m0.6\u001b[0m\u001b[0;34m]\u001b[0m\u001b[0;34m\u001b[0m\u001b[0;34m\u001b[0m\u001b[0m\n",
      "\u001b[0;31mNameError\u001b[0m: name 'train' is not defined"
     ]
    }
   ],
   "source": [
    "%matplotlib inline\n",
    "import matplotlib.pyplot as plt\n",
    "import seaborn as sns\n",
    "sns.set_style('whitegrid')\n",
    "\n",
    "import numpy as np\n",
    "\n",
    "#per_data=genfromtxt('result.csv',delimiter=',')\n",
    "\n",
    "\n",
    "x = [500, 1000, 2000, 5000, 10000]\n",
    "\n",
    "tnf_t_y = [train]\n",
    "\n",
    "tnf_v_y = [0.2, 0.1, 0.5, 0.9, 0.6]\n",
    "\n",
    "train_y = [train_rand_values[5], train_rand_values[4], train_rand_values[3], train_rand_values[2], train_rand_values[1], train_rand_values[0]]\n",
    "\n",
    "val_y = [val_rand_values[5], val_rand_values[4], val_rand_values[3], val_rand_values[2], val_rand_values[1], val_rand_values[0]]\n",
    "\n",
    "plt.figure(figsize=(17, 10))\n",
    "\n",
    "ax = plt.axes()\n",
    "ax.grid(False)\n",
    "plt.title(\"Rand Index for contigs across varying lengths\")\n",
    "plt.ylabel(\"Rand Score\")\n",
    "plt.xlabel(\"Minimum contig length\")\n",
    "plt.plot(tnf_t_x, tnf_t_y, label = \"TNF Train\", linestyle='None', marker='o', color=sns.color_palette('Set2')[0])\n",
    "plt.plot(tnf_v_x, tnf_v_y, label = \"TNF Validation\", linestyle='None', marker='o', color=sns.color_palette('Set2')[1])\n",
    "plt.plot(train_x, train_y, label = \"DeepBin Train\", linestyle='None', marker='o', color=sns.color_palette('Set2')[3])\n",
    "plt.plot(val_x, val_y, label = \"DeepBin Validation\", linestyle='None', marker='o', color=sns.color_palette('Set2')[2])\n",
    "plt.legend(loc=\"upper left\", prop={'size': 15})\n",
    "plt.yticks([0,0.5,1]) \n",
    "plt.xticks([0, 500, 1000, 2000, 5000, 10000]) \n",
    "plt.xlim(-500, 11000)\n",
    "plt.ylim(0, 1);\n",
    "plt.show()\n",
    "\n"
   ]
  },
  {
   "cell_type": "code",
   "execution_count": 323,
   "id": "6784a3bd",
   "metadata": {},
   "outputs": [
    {
     "data": {
      "image/png": "[encoded data removed]",
      "text/plain": [
       "<Figure size 864x576 with 1 Axes>"
      ]
     },
     "metadata": {},
     "output_type": "display_data"
    }
   ],
   "source": [
    "# set width of bar\n",
    "barWidth = 0.2\n",
    "fig = plt.subplots(figsize =(12, 8))\n",
    "\n",
    "\n",
    "plt.style.use('ggplot')\n",
    "\n",
    "plt.rcParams['font.sans-serif'] = 'Helvetica'\n",
    "\n",
    "\n",
    "# set height of bar\n",
    "tnf_train = [tnf_train_values[5], tnf_train_values[4], tnf_train_values[3], tnf_train_values[2], tnf_train_values[1], tnf_train_values[0]]\n",
    "tnf_val = [tnf_val_values[5], tnf_val_values[4], tnf_val_values[3], tnf_val_values[2], tnf_val_values[1], tnf_val_values[0]]\n",
    "train_y = [train_rand_values[5], train_rand_values[4], train_rand_values[3], train_rand_values[2], train_rand_values[1], train_rand_values[0]]\n",
    "val_y = [val_rand_values[5], val_rand_values[4], val_rand_values[3], val_rand_values[2], val_rand_values[1], val_rand_values[0]]\n",
    " \n",
    "# Set position of bar on X axis\n",
    "br1 = np.arange(len(tnf_train))\n",
    "br2 = [x + barWidth for x in br1]\n",
    "#br3 = [x + barWidth for x in br2]\n",
    "#br4 = [x + barWidth for x in br3]\n",
    " \n",
    "# Make the plot\n",
    "plt.bar(br1, tnf_train, color =sns.color_palette('Set2')[2], width = barWidth, label ='TNF Train')\n",
    "plt.bar(br2, train_y, color =sns.color_palette('Set2')[2], alpha =0.5, width = barWidth,label ='DeepBin Train')\n",
    "#plt.bar(br3, tnf_val, color =sns.color_palette('Set2')[3], width = barWidth, label ='TNF Validation')\n",
    "#plt.bar(br4, val_y, color =sns.color_palette('Set2')[3], alpha = 0.5, width = barWidth,label ='DeepBin Validation')\n",
    " \n",
    "# Adding Xticks\n",
    "plt.ylabel(\"Rand Score\")\n",
    "plt.xlabel(\"Range of Contig Length\")\n",
    "\n",
    "plt.legend(loc=\"upper left\", prop={'size': 15})\n",
    "\n",
    "plt.xticks([r + barWidth for r in range(len(tnf_train))],\n",
    "        ['0-500', '500-1000', '1000-2000', '2000-5000', '5000-10000', '10000+'])\n",
    "#plt.rcParams['axes.edgecolor']='#333F4B'\n",
    "#plt.rcParams['axes.linewidth']=0.8\n",
    "plt.rcParams['xtick.color']='#333F4B'\n",
    "plt.rcParams['ytick.color']='#333F4B'\n",
    "sns.set_style('whitegrid')\n",
    "plt.grid(False)\n",
    "plt.legend()\n",
    "plt.show()"
   ]
  },
  {
   "cell_type": "code",
   "execution_count": 324,
   "id": "b2f58401",
   "metadata": {},
   "outputs": [
    {
     "data": {
      "image/png": "[encoded data removed]",
      "text/plain": [
       "<Figure size 864x576 with 1 Axes>"
      ]
     },
     "metadata": {},
     "output_type": "display_data"
    }
   ],
   "source": [
    "# set width of bar\n",
    "barWidth = 0.2\n",
    "fig = plt.subplots(figsize =(12, 8))\n",
    "\n",
    "\n",
    "plt.style.use('ggplot')\n",
    "\n",
    "plt.rcParams['font.sans-serif'] = 'Helvetica'\n",
    "\n",
    "\n",
    "# set height of bar\n",
    "tnf_train = [tnf_train_values[5], tnf_train_values[4], tnf_train_values[3], tnf_train_values[2], tnf_train_values[1], tnf_train_values[0]]\n",
    "tnf_val = [tnf_val_values[5], tnf_val_values[4], tnf_val_values[3], tnf_val_values[2], tnf_val_values[1], tnf_val_values[0]]\n",
    "train_y = [train_rand_values[5], train_rand_values[4], train_rand_values[3], train_rand_values[2], train_rand_values[1], train_rand_values[0]]\n",
    "val_y = [val_rand_values[5], val_rand_values[4], val_rand_values[3], val_rand_values[2], val_rand_values[1], val_rand_values[0]]\n",
    " \n",
    "# Set position of bar on X axis\n",
    "br1 = np.arange(len(tnf_train))\n",
    "br2 = [x + barWidth for x in br1]\n",
    "#br3 = [x + barWidth for x in br2]\n",
    "#br4 = [x + barWidth for x in br3]\n",
    " \n",
    "# Make the plot\n",
    "#plt.bar(br1, tnf_train, color =sns.color_palette('Set2')[2], width = barWidth, label ='TNF Train')\n",
    "#plt.bar(br2, train_y, color =sns.color_palette('Set2')[2], alpha =0.5, width = barWidth,label ='DeepBin Train')\n",
    "plt.bar(br1, tnf_val, color =sns.color_palette('Set2')[3], width = barWidth, label ='TNF Validation')\n",
    "plt.bar(br2, val_y, color =sns.color_palette('Set2')[3], alpha = 0.5, width = barWidth,label ='DeepBin Validation')\n",
    " \n",
    "# Adding Xticks\n",
    "plt.ylabel(\"Rand Score\")\n",
    "plt.xlabel(\"Range of Contig Length\")\n",
    "\n",
    "plt.legend(loc=\"upper left\", prop={'size': 15})\n",
    "\n",
    "plt.xticks([r + barWidth for r in range(len(tnf_train))],\n",
    "        ['0-500', '500-1000', '1000-2000', '2000-5000', '5000-10000', '10000+'])\n",
    "#plt.rcParams['axes.edgecolor']='#333F4B'\n",
    "#plt.rcParams['axes.linewidth']=0.8\n",
    "plt.rcParams['xtick.color']='#333F4B'\n",
    "plt.rcParams['ytick.color']='#333F4B'\n",
    "sns.set_style('whitegrid')\n",
    "plt.grid(False)\n",
    "plt.legend()\n",
    "plt.show()"
   ]
  },
  {
   "cell_type": "code",
   "execution_count": null,
   "id": "d6d32594",
   "metadata": {},
   "outputs": [],
   "source": []
  }
 ],
 "metadata": {
  "kernelspec": {
   "display_name": "Python 3",
   "language": "python",
   "name": "python3"
  },
  "language_info": {
   "codemirror_mode": {
    "name": "ipython",
    "version": 3
   },
   "file_extension": ".py",
   "mimetype": "text/x-python",
   "name": "python",
   "nbconvert_exporter": "python",
   "pygments_lexer": "ipython3",
   "version": "3.6.13"
  }
 },
 "nbformat": 4,
 "nbformat_minor": 5
}
