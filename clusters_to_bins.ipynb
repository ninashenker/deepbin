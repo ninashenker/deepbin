{
 "cells": [
  {
   "cell_type": "code",
   "execution_count": 166,
   "id": "b3a297bf",
   "metadata": {},
   "outputs": [],
   "source": [
    "import pandas as pd\n",
    "\n",
    "train_bin_results= '/mnt/data/CAMI/DNABERT/rand_train.csv'\n",
    "val_bin_results = '/mnt/data/CAMI/DNABERT/rand_val.csv'"
   ]
  },
  {
   "cell_type": "code",
   "execution_count": 167,
   "id": "9d1b4605",
   "metadata": {},
   "outputs": [
    {
     "data": {
      "text/html": [
       "<div>\n",
       "<style scoped>\n",
       "    .dataframe tbody tr th:only-of-type {\n",
       "        vertical-align: middle;\n",
       "    }\n",
       "\n",
       "    .dataframe tbody tr th {\n",
       "        vertical-align: top;\n",
       "    }\n",
       "\n",
       "    .dataframe thead th {\n",
       "        text-align: right;\n",
       "    }\n",
       "</style>\n",
       "<table border=\"1\" class=\"dataframe\">\n",
       "  <thead>\n",
       "    <tr style=\"text-align: right;\">\n",
       "      <th></th>\n",
       "      <th>contig_length</th>\n",
       "      <th>method</th>\n",
       "      <th>randint</th>\n",
       "      <th>randintadj</th>\n",
       "    </tr>\n",
       "  </thead>\n",
       "  <tbody>\n",
       "    <tr>\n",
       "      <th>0</th>\n",
       "      <td>10000</td>\n",
       "      <td>hdbscan_20_fn_layer12_pca400</td>\n",
       "      <td>0.636129</td>\n",
       "      <td>0.170345</td>\n",
       "    </tr>\n",
       "    <tr>\n",
       "      <th>1</th>\n",
       "      <td>5000</td>\n",
       "      <td>hdbscan_20_fn_layer12_pca400</td>\n",
       "      <td>0.612529</td>\n",
       "      <td>0.176103</td>\n",
       "    </tr>\n",
       "    <tr>\n",
       "      <th>2</th>\n",
       "      <td>2000</td>\n",
       "      <td>hdbscan_20_fn_layer12_pca500</td>\n",
       "      <td>0.657800</td>\n",
       "      <td>0.247720</td>\n",
       "    </tr>\n",
       "    <tr>\n",
       "      <th>3</th>\n",
       "      <td>1000</td>\n",
       "      <td>hdbscan_20_fn_layer12_pca500</td>\n",
       "      <td>0.271612</td>\n",
       "      <td>0.002932</td>\n",
       "    </tr>\n",
       "    <tr>\n",
       "      <th>4</th>\n",
       "      <td>500</td>\n",
       "      <td>hdbscan_20_fn_layer12_pca500</td>\n",
       "      <td>0.280059</td>\n",
       "      <td>0.004285</td>\n",
       "    </tr>\n",
       "    <tr>\n",
       "      <th>5</th>\n",
       "      <td>0</td>\n",
       "      <td>hdbscan_20_fn_layer12_pca500</td>\n",
       "      <td>0.370651</td>\n",
       "      <td>0.027232</td>\n",
       "    </tr>\n",
       "  </tbody>\n",
       "</table>\n",
       "</div>"
      ],
      "text/plain": [
       "   contig_length                        method   randint  randintadj\n",
       "0          10000  hdbscan_20_fn_layer12_pca400  0.636129    0.170345\n",
       "1           5000  hdbscan_20_fn_layer12_pca400  0.612529    0.176103\n",
       "2           2000  hdbscan_20_fn_layer12_pca500  0.657800    0.247720\n",
       "3           1000  hdbscan_20_fn_layer12_pca500  0.271612    0.002932\n",
       "4            500  hdbscan_20_fn_layer12_pca500  0.280059    0.004285\n",
       "5              0  hdbscan_20_fn_layer12_pca500  0.370651    0.027232"
      ]
     },
     "execution_count": 167,
     "metadata": {},
     "output_type": "execute_result"
    }
   ],
   "source": [
    "pd.set_option('display.max_rows', None)\n",
    "pd.set_option('display.max_columns', None)\n",
    "\n",
    "col_names = ['contig_length', 'method', 'randint', 'randintadj']\n",
    "train_csv = pd.read_csv(train_bin_results, header = None, names=col_names)\n",
    "train_csv"
   ]
  },
  {
   "cell_type": "code",
   "execution_count": 164,
   "id": "5cd7f698",
   "metadata": {},
   "outputs": [
    {
     "data": {
      "text/html": [
       "<div>\n",
       "<style scoped>\n",
       "    .dataframe tbody tr th:only-of-type {\n",
       "        vertical-align: middle;\n",
       "    }\n",
       "\n",
       "    .dataframe tbody tr th {\n",
       "        vertical-align: top;\n",
       "    }\n",
       "\n",
       "    .dataframe thead th {\n",
       "        text-align: right;\n",
       "    }\n",
       "</style>\n",
       "<table border=\"1\" class=\"dataframe\">\n",
       "  <thead>\n",
       "    <tr style=\"text-align: right;\">\n",
       "      <th></th>\n",
       "      <th>contig_length</th>\n",
       "      <th>method</th>\n",
       "      <th>randint</th>\n",
       "      <th>randintadj</th>\n",
       "    </tr>\n",
       "  </thead>\n",
       "  <tbody>\n",
       "    <tr>\n",
       "      <th>0</th>\n",
       "      <td>10000</td>\n",
       "      <td>hdbscan_20_fn_layer12_pca400</td>\n",
       "      <td>0.267950</td>\n",
       "      <td>0.008305</td>\n",
       "    </tr>\n",
       "    <tr>\n",
       "      <th>1</th>\n",
       "      <td>5000</td>\n",
       "      <td>hdbscan_20_fn_layer12_pca400</td>\n",
       "      <td>0.412602</td>\n",
       "      <td>-0.000922</td>\n",
       "    </tr>\n",
       "    <tr>\n",
       "      <th>2</th>\n",
       "      <td>2000</td>\n",
       "      <td>hdbscan_20_fn_layer12_pca500</td>\n",
       "      <td>0.547972</td>\n",
       "      <td>0.050564</td>\n",
       "    </tr>\n",
       "    <tr>\n",
       "      <th>3</th>\n",
       "      <td>1000</td>\n",
       "      <td>hdbscan_20_fn_layer12_pca500</td>\n",
       "      <td>0.591882</td>\n",
       "      <td>0.049133</td>\n",
       "    </tr>\n",
       "    <tr>\n",
       "      <th>4</th>\n",
       "      <td>500</td>\n",
       "      <td>hdbscan_20_fn_layer12_pca500</td>\n",
       "      <td>0.253556</td>\n",
       "      <td>0.008748</td>\n",
       "    </tr>\n",
       "    <tr>\n",
       "      <th>5</th>\n",
       "      <td>0</td>\n",
       "      <td>hdbscan_20_fn_layer12_pca500</td>\n",
       "      <td>0.407541</td>\n",
       "      <td>-0.003182</td>\n",
       "    </tr>\n",
       "  </tbody>\n",
       "</table>\n",
       "</div>"
      ],
      "text/plain": [
       "   contig_length                        method   randint  randintadj\n",
       "0          10000  hdbscan_20_fn_layer12_pca400  0.267950    0.008305\n",
       "1           5000  hdbscan_20_fn_layer12_pca400  0.412602   -0.000922\n",
       "2           2000  hdbscan_20_fn_layer12_pca500  0.547972    0.050564\n",
       "3           1000  hdbscan_20_fn_layer12_pca500  0.591882    0.049133\n",
       "4            500  hdbscan_20_fn_layer12_pca500  0.253556    0.008748\n",
       "5              0  hdbscan_20_fn_layer12_pca500  0.407541   -0.003182"
      ]
     },
     "execution_count": 164,
     "metadata": {},
     "output_type": "execute_result"
    }
   ],
   "source": [
    "col_names = ['contig_length', 'method', 'randint', 'randintadj']\n",
    "val_csv = pd.read_csv(val_bin_results, header = None, names=col_names)\n",
    "val_csv"
   ]
  },
  {
   "cell_type": "code",
   "execution_count": 168,
   "id": "17ce0284",
   "metadata": {},
   "outputs": [
    {
     "name": "stdout",
     "output_type": "stream",
     "text": [
      "0    0.636129\n",
      "1    0.612529\n",
      "2    0.657800\n",
      "3    0.271612\n",
      "4    0.280059\n",
      "5    0.370651\n",
      "Name: randint, dtype: float64\n",
      "0    0.267950\n",
      "1    0.412602\n",
      "2    0.547972\n",
      "3    0.591882\n",
      "4    0.253556\n",
      "5    0.407541\n",
      "Name: randint, dtype: float64\n"
     ]
    }
   ],
   "source": [
    "train_rand_values = train_csv['randint']\n",
    "print(train_rand_values)\n",
    "\n",
    "val_rand_values = val_csv['randint']\n",
    "print(val_rand_values)"
   ]
  },
  {
   "cell_type": "code",
   "execution_count": 172,
   "id": "51699207",
   "metadata": {},
   "outputs": [
    {
     "data": {
      "image/png": "[encoded data removed]",
      "text/plain": [
       "<Figure size 1224x720 with 1 Axes>"
      ]
     },
     "metadata": {},
     "output_type": "display_data"
    }
   ],
   "source": [
    "%matplotlib inline\n",
    "import matplotlib.pyplot as plt\n",
    "import seaborn as sns\n",
    "sns.set_style('whitegrid')\n",
    "\n",
    "import numpy as np\n",
    "\n",
    "#per_data=genfromtxt('result.csv',delimiter=',')\n",
    "\n",
    "\n",
    "#tnf_t_x = [500, 1000, 2000, 5000, 10000]\n",
    "#tnf_t_y = []\n",
    "\n",
    "#tnf_v_x = [500, 1000, 2000, 5000, 10000]\n",
    "#tnf_v_y = []\n",
    "\n",
    "train_x = [0, 500, 1000, 2000, 5000, 10000]\n",
    "train_y = [train_rand_values[5], train_rand_values[4], train_rand_values[3], train_rand_values[2], train_rand_values[1], train_rand_values[0]]\n",
    "\n",
    "val_x = [0, 500, 1000, 2000, 5000, 10000]\n",
    "val_y = [train_rand_values[5], val_rand_values[4], val_rand_values[3], val_rand_values[2], val_rand_values[1], val_rand_values[0]]\n",
    "\n",
    "plt.figure(figsize=(17, 10))\n",
    "\n",
    "ax = plt.axes()\n",
    "ax.grid(False)\n",
    "plt.title(\"Adjusted Rand Index\")\n",
    "plt.ylabel(\"Adjusted Rand Score\")\n",
    "plt.xlabel(\"Maximum contig length\")\n",
    "#plt.plot(tnf_t_x, tnf_t_y, label = \"TNF Train\", linestyle='-', marker='o', color=sns.color_palette('Set2')[0])\n",
    "#plt.plot(tnf_v_x, tnf_v_y, label = \"TNF Validation\", linestyle='--', marker='o', color=sns.color_palette('Set2')[0])\n",
    "plt.plot(train_x, train_y, label = \"DeepBin Train\", linestyle='-', marker='o', color=sns.color_palette('Set2')[2])\n",
    "plt.plot(val_x, val_y, label = \"DeepBin Validation\", linestyle='--', marker='o', color=sns.color_palette('Set2')[2])\n",
    "plt.legend(loc=\"upper left\", prop={'size': 15})\n",
    "plt.yticks([0,0.5,1]) \n",
    "plt.xticks([500, 1000, 2000, 5000, 10000]) \n",
    "plt.xlim(-500, 11000)\n",
    "plt.ylim(0, 1);\n",
    "plt.show()"
   ]
  },
  {
   "cell_type": "code",
   "execution_count": null,
   "id": "e5f8f72f",
   "metadata": {},
   "outputs": [],
   "source": []
  }
 ],
 "metadata": {
  "kernelspec": {
   "display_name": "Python 3",
   "language": "python",
   "name": "python3"
  },
  "language_info": {
   "codemirror_mode": {
    "name": "ipython",
    "version": 3
   },
   "file_extension": ".py",
   "mimetype": "text/x-python",
   "name": "python",
   "nbconvert_exporter": "python",
   "pygments_lexer": "ipython3",
   "version": "3.6.13"
  }
 },
 "nbformat": 4,
 "nbformat_minor": 5
}
